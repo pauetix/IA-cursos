{
 "cells": [
  {
   "cell_type": "markdown",
   "id": "4d1af44e",
   "metadata": {},
   "source": [
    "# PLANTILLA PARA MODELOS DE REGRESIÓN"
   ]
  },
  {
   "cell_type": "markdown",
   "id": "b1deb929",
   "metadata": {},
   "source": [
    "En este punto del código se importan las librerías que se quieren usar en el desrrollo del modelo."
   ]
  },
  {
   "cell_type": "code",
   "execution_count": 4,
   "id": "8b4250f6",
   "metadata": {},
   "outputs": [],
   "source": [
    "import numpy as np\n",
    "import matplotlib.pyplot as plt\n",
    "import pandas as pd"
   ]
  },
  {
   "cell_type": "markdown",
   "id": "2b766156",
   "metadata": {},
   "source": [
    "En este punto se importa el dataset con el que se va a trabajar con este modelo, provienen de un csv, y tras ejecutar el código, podemos ver cómo almacena pandas el dataset."
   ]
  },
  {
   "cell_type": "code",
   "execution_count": 5,
   "id": "163fd460",
   "metadata": {},
   "outputs": [
    {
     "data": {
      "application/vnd.microsoft.datawrangler.viewer.v0+json": {
       "columns": [
        {
         "name": "index",
         "rawType": "int64",
         "type": "integer"
        },
        {
         "name": "Position",
         "rawType": "object",
         "type": "string"
        },
        {
         "name": "Level",
         "rawType": "int64",
         "type": "integer"
        },
        {
         "name": "Salary",
         "rawType": "int64",
         "type": "integer"
        }
       ],
       "ref": "2f567c1d-c434-45aa-98b0-90515d2ace45",
       "rows": [
        [
         "0",
         "Business Analyst",
         "1",
         "45000"
        ],
        [
         "1",
         "Junior Consultant",
         "2",
         "50000"
        ],
        [
         "2",
         "Senior Consultant",
         "3",
         "60000"
        ],
        [
         "3",
         "Manager",
         "4",
         "80000"
        ],
        [
         "4",
         "Country Manager",
         "5",
         "110000"
        ],
        [
         "5",
         "Region Manager",
         "6",
         "150000"
        ],
        [
         "6",
         "Partner",
         "7",
         "200000"
        ],
        [
         "7",
         "Senior Partner",
         "8",
         "300000"
        ],
        [
         "8",
         "C-level",
         "9",
         "500000"
        ],
        [
         "9",
         "CEO",
         "10",
         "1000000"
        ]
       ],
       "shape": {
        "columns": 3,
        "rows": 10
       }
      },
      "text/html": [
       "<div>\n",
       "<style scoped>\n",
       "    .dataframe tbody tr th:only-of-type {\n",
       "        vertical-align: middle;\n",
       "    }\n",
       "\n",
       "    .dataframe tbody tr th {\n",
       "        vertical-align: top;\n",
       "    }\n",
       "\n",
       "    .dataframe thead th {\n",
       "        text-align: right;\n",
       "    }\n",
       "</style>\n",
       "<table border=\"1\" class=\"dataframe\">\n",
       "  <thead>\n",
       "    <tr style=\"text-align: right;\">\n",
       "      <th></th>\n",
       "      <th>Position</th>\n",
       "      <th>Level</th>\n",
       "      <th>Salary</th>\n",
       "    </tr>\n",
       "  </thead>\n",
       "  <tbody>\n",
       "    <tr>\n",
       "      <th>0</th>\n",
       "      <td>Business Analyst</td>\n",
       "      <td>1</td>\n",
       "      <td>45000</td>\n",
       "    </tr>\n",
       "    <tr>\n",
       "      <th>1</th>\n",
       "      <td>Junior Consultant</td>\n",
       "      <td>2</td>\n",
       "      <td>50000</td>\n",
       "    </tr>\n",
       "    <tr>\n",
       "      <th>2</th>\n",
       "      <td>Senior Consultant</td>\n",
       "      <td>3</td>\n",
       "      <td>60000</td>\n",
       "    </tr>\n",
       "    <tr>\n",
       "      <th>3</th>\n",
       "      <td>Manager</td>\n",
       "      <td>4</td>\n",
       "      <td>80000</td>\n",
       "    </tr>\n",
       "    <tr>\n",
       "      <th>4</th>\n",
       "      <td>Country Manager</td>\n",
       "      <td>5</td>\n",
       "      <td>110000</td>\n",
       "    </tr>\n",
       "    <tr>\n",
       "      <th>5</th>\n",
       "      <td>Region Manager</td>\n",
       "      <td>6</td>\n",
       "      <td>150000</td>\n",
       "    </tr>\n",
       "    <tr>\n",
       "      <th>6</th>\n",
       "      <td>Partner</td>\n",
       "      <td>7</td>\n",
       "      <td>200000</td>\n",
       "    </tr>\n",
       "    <tr>\n",
       "      <th>7</th>\n",
       "      <td>Senior Partner</td>\n",
       "      <td>8</td>\n",
       "      <td>300000</td>\n",
       "    </tr>\n",
       "    <tr>\n",
       "      <th>8</th>\n",
       "      <td>C-level</td>\n",
       "      <td>9</td>\n",
       "      <td>500000</td>\n",
       "    </tr>\n",
       "    <tr>\n",
       "      <th>9</th>\n",
       "      <td>CEO</td>\n",
       "      <td>10</td>\n",
       "      <td>1000000</td>\n",
       "    </tr>\n",
       "  </tbody>\n",
       "</table>\n",
       "</div>"
      ],
      "text/plain": [
       "            Position  Level   Salary\n",
       "0   Business Analyst      1    45000\n",
       "1  Junior Consultant      2    50000\n",
       "2  Senior Consultant      3    60000\n",
       "3            Manager      4    80000\n",
       "4    Country Manager      5   110000\n",
       "5     Region Manager      6   150000\n",
       "6            Partner      7   200000\n",
       "7     Senior Partner      8   300000\n",
       "8            C-level      9   500000\n",
       "9                CEO     10  1000000"
      ]
     },
     "execution_count": 5,
     "metadata": {},
     "output_type": "execute_result"
    }
   ],
   "source": [
    "dataset = pd.read_csv('Position_Salaries.csv')\n",
    "dataset"
   ]
  },
  {
   "cell_type": "markdown",
   "id": "51a09ffc",
   "metadata": {},
   "source": [
    "Una vez cargado el dataset, almacenamos las variables dependientes en una nueva variable llamada X."
   ]
  },
  {
   "cell_type": "code",
   "execution_count": null,
   "id": "ddd0fc5e",
   "metadata": {},
   "outputs": [
    {
     "data": {
      "text/plain": [
       "array([['Business Analyst', 1],\n",
       "       ['Junior Consultant', 2],\n",
       "       ['Senior Consultant', 3],\n",
       "       ['Manager', 4],\n",
       "       ['Country Manager', 5],\n",
       "       ['Region Manager', 6],\n",
       "       ['Partner', 7],\n",
       "       ['Senior Partner', 8],\n",
       "       ['C-level', 9],\n",
       "       ['CEO', 10]], dtype=object)"
      ]
     },
     "execution_count": 7,
     "metadata": {},
     "output_type": "execute_result"
    }
   ],
   "source": [
    "X = dataset.iloc[:, :-1].values                                                                 # Indicamos que queremos desde la primera columna (:) hasta la última, salvo la última (:-1) !!!!!![filas, columnas]!!!!\n",
    "X"
   ]
  },
  {
   "cell_type": "markdown",
   "id": "6f91ef16",
   "metadata": {},
   "source": [
    "Ahora almacenamos la variable dependiente en una variable llamada y."
   ]
  },
  {
   "cell_type": "code",
   "execution_count": null,
   "id": "598c145a",
   "metadata": {},
   "outputs": [
    {
     "data": {
      "text/plain": [
       "array([  45000,   50000,   60000,   80000,  110000,  150000,  200000,\n",
       "        300000,  500000, 1000000])"
      ]
     },
     "execution_count": 8,
     "metadata": {},
     "output_type": "execute_result"
    }
   ],
   "source": [
    "y = dataset.iloc[:, -1].values                                                                  # Indicamos que solo queremos la última columna <-- VARIABLE A PREDECIRy\n",
    "y"
   ]
  },
  {
   "cell_type": "markdown",
   "id": "896dd76b",
   "metadata": {},
   "source": [
    "## OPCIONAL - TRATAMIENTO DE LOS NAS\n",
    "\n",
    "Esta sección trata de manejar los valores vacíos para normalizarlos, en este caso, los NaN se sustituyen por el valor de la media de la columna"
   ]
  },
  {
   "cell_type": "code",
   "execution_count": null,
   "id": "ff1092ac",
   "metadata": {},
   "outputs": [],
   "source": [
    "from sklearn.impute import SimpleImputer                                                        # Importamos solo una función, con esta trataremos los NAs\n",
    "imputer = SimpleImputer(missing_values=np.nan, strategy=\"mean\")                                 # Indicamos cómo debe actuar en los casos de atributos sin valor\n",
    "imputer.fit(X[:, 1:3])                                                                          # De 1 a 3 porque python no toma el ultimo valor, con fit se calculan los valores de relleno en las columnas\n",
    "X[:, 1:3] = imputer.transform(X[:, 1:3])                                                        # Selecciona las columnas y \"confirma\" esos valores NaN modificados por las medias\n",
    "X"
   ]
  },
  {
   "cell_type": "markdown",
   "id": "f67ec762",
   "metadata": {},
   "source": [
    "En esta sección, se divide el dataset en el conjunto de entrenamiento y el conjunto de test"
   ]
  },
  {
   "cell_type": "code",
   "execution_count": null,
   "id": "c583bfc1",
   "metadata": {},
   "outputs": [],
   "source": [
    "from sklearn.model_selection import train_test_split                                            # Librería para dividir dataset en conjuntos\n",
    "X_train, X_test, y_train, y_test = train_test_split(X, y, test_size = 0.2, random_state = 0)    # Creación de variables"
   ]
  },
  {
   "cell_type": "markdown",
   "id": "8353e755",
   "metadata": {},
   "source": [
    "## OPCIONAL - ESCALADO DE LAS VARIABLES\n",
    "\n",
    "Esta sección se encarga de \"nornmalizar\" las variables para ajustar los valores y que todos los campos tangan relevancia en la predicción \"por igual\""
   ]
  },
  {
   "cell_type": "code",
   "execution_count": null,
   "id": "b8ce5f5e",
   "metadata": {},
   "outputs": [],
   "source": [
    "from sklearn.preprocessing import StandardScaler                                                # Librería para poder normalizar los valores, que no sean tan lejanos entre sí para que no haya tanjta diferencia de peso\n",
    "sc = StandardScaler()                                                                           # Creamos una instancia de StandardScaler\n",
    "X_train[:, 3:] = sc.fit_transform(X_train[:, 3:])                                               # Normalizamos conjunto de entrenamiento y aplicamos\n",
    "X_test[:, 3:] = sc.transform(X_test[:, 3:])                                                     # Aplicamos misma normalización para conjunto de test"
   ]
  }
 ],
 "metadata": {
  "kernelspec": {
   "display_name": "base",
   "language": "python",
   "name": "python3"
  },
  "language_info": {
   "codemirror_mode": {
    "name": "ipython",
    "version": 3
   },
   "file_extension": ".py",
   "mimetype": "text/x-python",
   "name": "python",
   "nbconvert_exporter": "python",
   "pygments_lexer": "ipython3",
   "version": "3.13.5"
  }
 },
 "nbformat": 4,
 "nbformat_minor": 5
}
